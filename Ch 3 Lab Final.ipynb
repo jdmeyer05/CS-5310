{
 "cells": [
  {
   "cell_type": "markdown",
   "metadata": {},
   "source": [
    "# Justin Meyer        CS 5310 Ch. 3 Lab - kNN"
   ]
  },
  {
   "cell_type": "markdown",
   "metadata": {},
   "source": [
    "In this lab I will do some data preprocessing to control for multicollinearity and then normalize the data set before running the kNN algorithm"
   ]
  },
  {
   "cell_type": "code",
   "execution_count": 1,
   "metadata": {
    "scrolled": true
   },
   "outputs": [],
   "source": [
    "import pandas as pd\n",
    "import numpy as np"
   ]
  },
  {
   "cell_type": "code",
   "execution_count": 2,
   "metadata": {},
   "outputs": [],
   "source": [
    "# Import the Features data sets\n",
    "\n",
    "df1 = pd.read_csv(\"E:\\MSDA\\MSDA Courses\\CS 5310\\BPass-ICA-EMD-95features-ws1000\\BG_features.csv\")\n",
    "df2 = pd.read_csv(\"E:\\MSDA\\MSDA Courses\\CS 5310\\BPass-ICA-EMD-95features-ws1000\\FZ_features.csv\")\n",
    "df3 = pd.read_csv(\"E:\\MSDA\\MSDA Courses\\CS 5310\\BPass-ICA-EMD-95features-ws1000\\MJ_features.csv\")\n",
    "df4 = pd.read_csv(\"E:\\MSDA\\MSDA Courses\\CS 5310\\BPass-ICA-EMD-95features-ws1000\\MR_features.csv\")\n",
    "df5 = pd.read_csv(\"E:\\MSDA\\MSDA Courses\\CS 5310\\BPass-ICA-EMD-95features-ws1000\\YH_features.csv\")\n",
    "Features_df = pd.concat([df1, df2, df3, df4, df5], axis=0)"
   ]
  },
  {
   "cell_type": "code",
   "execution_count": 3,
   "metadata": {
    "scrolled": true
   },
   "outputs": [],
   "source": [
    "# Import the Objects data sets\n",
    "\n",
    "df1 = pd.read_csv(\"E:\\MSDA\\MSDA Courses\\CS 5310\\BPass-ICA-EMD-95features-ws1000\\BG_objects.csv\")\n",
    "df2 = pd.read_csv(\"E:\\MSDA\\MSDA Courses\\CS 5310\\BPass-ICA-EMD-95features-ws1000\\FZ_objects.csv\")\n",
    "df3 = pd.read_csv(\"E:\\MSDA\\MSDA Courses\\CS 5310\\BPass-ICA-EMD-95features-ws1000\\MJ_objects.csv\")\n",
    "df4 = pd.read_csv(\"E:\\MSDA\\MSDA Courses\\CS 5310\\BPass-ICA-EMD-95features-ws1000\\MR_objects.csv\")\n",
    "df5 = pd.read_csv(\"E:\\MSDA\\MSDA Courses\\CS 5310\\BPass-ICA-EMD-95features-ws1000\\YH_objects.csv\")\n",
    "Objects_df = pd.concat([df1, df2, df3, df4, df5], axis=0)"
   ]
  },
  {
   "cell_type": "code",
   "execution_count": 4,
   "metadata": {
    "scrolled": true
   },
   "outputs": [],
   "source": [
    "# Create the correlation matrix and convert values to absolute values\n",
    "\n",
    "cor_output = Features_df.corr(method='pearson', min_periods=1).abs()"
   ]
  },
  {
   "cell_type": "code",
   "execution_count": 5,
   "metadata": {},
   "outputs": [],
   "source": [
    "# Create come logic to quickly remove all values correlated that is above .80\n",
    "\n",
    "mask = np.triu(np.ones_like(cor_output, dtype=bool))\n",
    "tri_df = cor_output.mask(mask)\n",
    "\n",
    "to_drop = [c for c in tri_df.columns if any(tri_df[c] > 0.80)]\n",
    "\n",
    "reduced_df = Features_df.drop(to_drop, axis=1)"
   ]
  },
  {
   "cell_type": "code",
   "execution_count": 6,
   "metadata": {
    "scrolled": true
   },
   "outputs": [],
   "source": [
    "# Normalize the features using the preprocessing MinMaxScaler from sklearn\n",
    "\n",
    "from sklearn import preprocessing\n",
    "x = reduced_df.values\n",
    "min_max_scaler = preprocessing.MinMaxScaler()\n",
    "x_scaled = min_max_scaler.fit_transform(x)\n",
    "normalized_df = pd.DataFrame(x_scaled)"
   ]
  },
  {
   "cell_type": "code",
   "execution_count": 7,
   "metadata": {},
   "outputs": [],
   "source": [
    "# Add back in the column headers\n",
    "\n",
    "col_names = pd.DataFrame(reduced_df.columns)\n",
    "normalized_df.columns = col_names"
   ]
  },
  {
   "cell_type": "code",
   "execution_count": 8,
   "metadata": {},
   "outputs": [],
   "source": [
    "# Fixes an issue with the indexing for the Objects dataframe\n",
    "\n",
    "Objects_df.reset_index(drop=True, inplace=True)"
   ]
  },
  {
   "cell_type": "code",
   "execution_count": 9,
   "metadata": {
    "scrolled": true
   },
   "outputs": [
    {
     "name": "stdout",
     "output_type": "stream",
     "text": [
      "      # Object  (beta0,)  (gamma0,)  (hjorth_complexity0,)  (spec_entropy0,)  \\\n",
      "0            3  0.157238   0.229738               0.035377          0.217393   \n",
      "1            2  0.151668   0.223412               0.030406          0.247178   \n",
      "2            5  0.121261   0.330426               0.014179          0.081143   \n",
      "3            1  0.151377   0.216478               0.041233          0.203189   \n",
      "4            1  0.177493   0.222989               0.086776          0.300749   \n",
      "...        ...       ...        ...                    ...               ...   \n",
      "1265         2  0.075409   0.199479               0.024074          0.176828   \n",
      "1266         1  0.087652   0.235093               0.012779          0.077244   \n",
      "1267         2  0.098463   0.202751               0.050067          0.196071   \n",
      "1268         1  0.704196   0.623125               0.043094          0.303839   \n",
      "1269         3  0.112723   0.245239               0.021689          0.144053   \n",
      "\n",
      "      (approx_entropy0,)  (Hurst0,)  (alpha1,)  (beta1,)  (gamma1,)  ...  \\\n",
      "0               0.724650   0.424061   0.374166  0.352668   0.336045  ...   \n",
      "1               0.682965   0.202294   0.160974  0.350058   0.388491  ...   \n",
      "2               0.828335   0.376719   0.098311  0.305536   0.365539  ...   \n",
      "3               0.800476   0.187474   0.120893  0.449566   0.271516  ...   \n",
      "4               0.774714   0.357062   0.353759  0.327456   0.244224  ...   \n",
      "...                  ...        ...        ...       ...        ...  ...   \n",
      "1265            0.759707   0.465498   0.051688  0.194598   0.219005  ...   \n",
      "1266            0.701695   0.170447   0.031878  0.185787   0.293177  ...   \n",
      "1267            0.811142   0.413291   0.038629  0.131239   0.153173  ...   \n",
      "1268            0.807176   0.295796   0.210957  0.586835   0.262130  ...   \n",
      "1269            0.774668   0.340022   0.041496  0.176620   0.403141  ...   \n",
      "\n",
      "      (delta4,)  (gamma4,)  (thetaRIR4,)   (PFD4,)   (HFD4,)  \\\n",
      "0      0.070139   0.158510      0.133064  0.509686  0.384222   \n",
      "1      0.182167   0.356205      0.133901  0.343277  0.147139   \n",
      "2      0.008194   0.006941      0.350612  0.509686  0.125271   \n",
      "3      0.115026   0.064263      0.060345  0.509686  0.101782   \n",
      "4      0.087961   0.140578      0.103990  0.624690  0.261295   \n",
      "...         ...        ...           ...       ...       ...   \n",
      "1265   0.087434   0.211404      0.147693  0.509686  0.378238   \n",
      "1266   0.155764   0.251338      0.121346  0.343277  0.484086   \n",
      "1267   0.094951   0.244551      0.165033  0.509686  0.047879   \n",
      "1268   0.110376   0.197943      0.121016  0.509686  0.126131   \n",
      "1269   0.092048   0.360506      0.190152  0.418424  0.247794   \n",
      "\n",
      "      (hjorth_mobility4,)  (hjorth_complexity4,)  (spec_entropy4,)  \\\n",
      "0                0.584361               0.054075          0.761724   \n",
      "1                0.583135               0.053803          0.740879   \n",
      "2                0.317521               0.091247          0.624261   \n",
      "3                0.213140               0.140224          0.398625   \n",
      "4                0.150262               0.198195          0.665307   \n",
      "...                   ...                    ...               ...   \n",
      "1265             0.066002               0.257333          0.789058   \n",
      "1266             0.119862               0.204097          0.693861   \n",
      "1267             0.331763               0.095113          0.812464   \n",
      "1268             0.161808               0.182113          0.709758   \n",
      "1269             0.148062               0.187195          0.887704   \n",
      "\n",
      "      (approx_entropy4,)  (Hurst4,)  \n",
      "0               0.048792   0.907102  \n",
      "1               0.129909   0.923736  \n",
      "2               0.475110   0.620028  \n",
      "3               0.191514   0.924104  \n",
      "4               0.062870   0.983125  \n",
      "...                  ...        ...  \n",
      "1265            0.127790   0.891287  \n",
      "1266            0.185483   0.882339  \n",
      "1267            0.087741   0.716462  \n",
      "1268            0.109323   0.947004  \n",
      "1269            0.106556   0.749792  \n",
      "\n",
      "[1270 rows x 51 columns]\n"
     ]
    }
   ],
   "source": [
    "# Combine the dataframes\n",
    "\n",
    "Full_df = Objects_df.join(normalized_df)\n",
    "print(Full_df)"
   ]
  },
  {
   "cell_type": "code",
   "execution_count": 10,
   "metadata": {},
   "outputs": [],
   "source": [
    "# Split the data into features and labels\n",
    "\n",
    "X = np.array(Full_df.drop(['# Object'],1))\n",
    "y = np.array(Full_df['# Object'])"
   ]
  },
  {
   "cell_type": "code",
   "execution_count": 11,
   "metadata": {},
   "outputs": [],
   "source": [
    "# Split the data into training data set and testing data set\n",
    "\n",
    "from sklearn.model_selection import train_test_split\n",
    "X_train, X_test, y_train, y_test = train_test_split(X, y, test_size = 0.20, random_state = 0)"
   ]
  },
  {
   "cell_type": "code",
   "execution_count": 12,
   "metadata": {},
   "outputs": [
    {
     "data": {
      "text/html": [
       "<div>\n",
       "<style scoped>\n",
       "    .dataframe tbody tr th:only-of-type {\n",
       "        vertical-align: middle;\n",
       "    }\n",
       "\n",
       "    .dataframe tbody tr th {\n",
       "        vertical-align: top;\n",
       "    }\n",
       "\n",
       "    .dataframe thead th {\n",
       "        text-align: right;\n",
       "    }\n",
       "</style>\n",
       "<table border=\"1\" class=\"dataframe\">\n",
       "  <thead>\n",
       "    <tr style=\"text-align: right;\">\n",
       "      <th>col_0</th>\n",
       "      <th>1</th>\n",
       "      <th>2</th>\n",
       "      <th>3</th>\n",
       "      <th>4</th>\n",
       "      <th>5</th>\n",
       "    </tr>\n",
       "    <tr>\n",
       "      <th>row_0</th>\n",
       "      <th></th>\n",
       "      <th></th>\n",
       "      <th></th>\n",
       "      <th></th>\n",
       "      <th></th>\n",
       "    </tr>\n",
       "  </thead>\n",
       "  <tbody>\n",
       "    <tr>\n",
       "      <th>1</th>\n",
       "      <td>19</td>\n",
       "      <td>8</td>\n",
       "      <td>15</td>\n",
       "      <td>6</td>\n",
       "      <td>7</td>\n",
       "    </tr>\n",
       "    <tr>\n",
       "      <th>2</th>\n",
       "      <td>22</td>\n",
       "      <td>11</td>\n",
       "      <td>7</td>\n",
       "      <td>8</td>\n",
       "      <td>8</td>\n",
       "    </tr>\n",
       "    <tr>\n",
       "      <th>3</th>\n",
       "      <td>18</td>\n",
       "      <td>8</td>\n",
       "      <td>7</td>\n",
       "      <td>11</td>\n",
       "      <td>7</td>\n",
       "    </tr>\n",
       "    <tr>\n",
       "      <th>4</th>\n",
       "      <td>19</td>\n",
       "      <td>7</td>\n",
       "      <td>10</td>\n",
       "      <td>6</td>\n",
       "      <td>4</td>\n",
       "    </tr>\n",
       "    <tr>\n",
       "      <th>5</th>\n",
       "      <td>15</td>\n",
       "      <td>12</td>\n",
       "      <td>5</td>\n",
       "      <td>5</td>\n",
       "      <td>9</td>\n",
       "    </tr>\n",
       "  </tbody>\n",
       "</table>\n",
       "</div>"
      ],
      "text/plain": [
       "col_0   1   2   3   4  5\n",
       "row_0                   \n",
       "1      19   8  15   6  7\n",
       "2      22  11   7   8  8\n",
       "3      18   8   7  11  7\n",
       "4      19   7  10   6  4\n",
       "5      15  12   5   5  9"
      ]
     },
     "execution_count": 12,
     "metadata": {},
     "output_type": "execute_result"
    }
   ],
   "source": [
    "# Train the kNN model and output the crosstab\n",
    "\n",
    "from sklearn.neighbors import KNeighborsClassifier\n",
    "neigh = KNeighborsClassifier(n_neighbors=7)\n",
    "neigh.fit(X_train, y_train)\n",
    "nuro_test_pred = neigh.predict(X_test)\n",
    "pd.crosstab(y_test, nuro_test_pred)"
   ]
  },
  {
   "cell_type": "code",
   "execution_count": 13,
   "metadata": {},
   "outputs": [
    {
     "name": "stdout",
     "output_type": "stream",
     "text": [
      "0.2047244094488189\n"
     ]
    }
   ],
   "source": [
    "# How accurate is the model?\n",
    "\n",
    "accuracy = neigh.score(X_test, y_test)\n",
    "print(accuracy)"
   ]
  },
  {
   "cell_type": "markdown",
   "metadata": {},
   "source": [
    "# Conclusion"
   ]
  },
  {
   "cell_type": "markdown",
   "metadata": {},
   "source": [
    "The model was only 20% accurate in predicting which object belonged to which set of features"
   ]
  }
 ],
 "metadata": {
  "kernelspec": {
   "display_name": "Python 3",
   "language": "python",
   "name": "python3"
  },
  "language_info": {
   "codemirror_mode": {
    "name": "ipython",
    "version": 3
   },
   "file_extension": ".py",
   "mimetype": "text/x-python",
   "name": "python",
   "nbconvert_exporter": "python",
   "pygments_lexer": "ipython3",
   "version": "3.8.3"
  }
 },
 "nbformat": 4,
 "nbformat_minor": 4
}
